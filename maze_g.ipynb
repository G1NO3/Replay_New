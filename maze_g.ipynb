{
 "cells": [
  {
   "cell_type": "code",
   "execution_count": 6,
   "metadata": {},
   "outputs": [],
   "source": [
    "import numpy as np\n",
    "import matplotlib as mpl\n",
    "import matplotlib.pyplot as plt"
   ]
  },
  {
   "cell_type": "code",
   "execution_count": 13,
   "metadata": {},
   "outputs": [],
   "source": [
    "class MazeGenerator():\n",
    "    def __init__(self, grid_size):\n",
    "        self.grid_size = grid_size\n",
    "        self.actions = np.array([[1,0],[-1,0],[0,1],[0,-1]], dtype=np.int8)\n",
    "        self.inverse_action_map = np.array([1,0,3,2], dtype=np.int8)\n",
    "        self.actions_np = np.array([[1,0],[-1,0],[0,1],[0,-1]], dtype=np.int8)\n",
    "        self.inverse_action_map_np = np.array([1,0,3,2], dtype=np.int8)\n",
    "\n",
    "    def get_neighbor(self, s, a):\n",
    "        \"s: (2,), a: (2,)\"\n",
    "        neigh = (s+a) % self.grid_size\n",
    "        return neigh\n",
    "\n",
    "    def walk_np(self, maze, visited, start_s, grid_size):\n",
    "        \" walk through the maze and remove walls in a depth-first manner \"\n",
    "        neighbors = np.array([self.get_neighbor(start_s, a) for a in self.actions])\n",
    "        visited[start_s[0], start_s[1]] = 1\n",
    "        random_order = np.random.permutation(len(neighbors))\n",
    "        for i in random_order:\n",
    "            neighbor = neighbors[i]\n",
    "            if visited[neighbor[0], neighbor[1]] == 0:\n",
    "                maze[start_s[0], start_s[1], i] = 0 # remove the wall\n",
    "                maze[neighbor[0], neighbor[1], self.inverse_action_map[i]] = 0 # remove the inverse wall\n",
    "                maze, visited = self.walk_np(maze, visited, neighbor, grid_size)\n",
    "        return maze, visited\n",
    "    \n",
    "    def get_maze_np(self):\n",
    "        \"get a random maze\"\n",
    "        maze = np.ones((self.grid_size, self.grid_size, 4))\n",
    "        visited = np.zeros((self.grid_size, self.grid_size), dtype=np.int8)\n",
    "        start_s = np.random.randint(0, self.grid_size, 2)\n",
    "        maze, visited = self.walk_np(maze, visited, start_s, self.grid_size) # remove walls\n",
    "        extra_remove_n = 3*(self.grid_size-3) # remove extra walls\n",
    "        wall_loc = np.where(maze == 1)\n",
    "        remove_index = np.random.randint(0, wall_loc[0].shape[0], extra_remove_n, dtype=np.int8)\n",
    "        for i in range(extra_remove_n):\n",
    "            r, c, a = wall_loc[0][remove_index[i]], wall_loc[1][remove_index[i]], wall_loc[2][remove_index[i]]\n",
    "            neighbor = self.get_neighbor(np.array([r,c]), self.actions[a])\n",
    "            maze[r, c, a] = 0\n",
    "            maze[neighbor[0], neighbor[1], self.inverse_action_map[a]] = 0\n",
    "        return maze\n",
    "    \n",
    "    def render(self, wall_maze):\n",
    "        fig, ax = plt.subplots(figsize=(3,3),frameon=True)\n",
    "        ax.grid(visible=True)\n",
    "        ax.set_xlim(0,self.grid_size)\n",
    "        ax.set_ylim(self.grid_size,0)\n",
    "        wall_loc = np.where(wall_maze==1)\n",
    "        for i in range(len(wall_loc[0])):\n",
    "            r, c, a = wall_loc[0][i], wall_loc[1][i], wall_loc[2][i] # already in matrix coordinates\n",
    "            if a == 0:\n",
    "                start_r = np.array([r+1, r+1])\n",
    "                start_c = np.array([c, c+1])\n",
    "            elif a == 1:\n",
    "                start_r = np.array([r, r])\n",
    "                start_c = np.array([c, c+1])\n",
    "            elif a == 2:\n",
    "                start_r = np.array([r, r+1])\n",
    "                start_c = np.array([c+1, c+1])\n",
    "            elif a == 3:\n",
    "                start_r = np.array([r, r+1])\n",
    "                start_c = np.array([c, c])\n",
    "            line = mpl.lines.Line2D(start_c, start_r, color='blue', linewidth=5)\n",
    "            ax.add_line(line)\n",
    "        ax.xaxis.set_tick_params(bottom=False, top=True, labeltop=True, labelbottom=False)\n",
    "        plt.show()"
   ]
  },
  {
   "cell_type": "code",
   "execution_count": 14,
   "metadata": {},
   "outputs": [],
   "source": [
    "grid_size = 4\n",
    "maze_gen = MazeGenerator(grid_size)"
   ]
  },
  {
   "cell_type": "code",
   "execution_count": 15,
   "metadata": {},
   "outputs": [
    {
     "name": "stderr",
     "output_type": "stream",
     "text": [
      "100%|██████████| 100000/100000 [00:30<00:00, 3321.92it/s]\n"
     ]
    }
   ],
   "source": [
    "from tqdm import tqdm\n",
    "n_maze = int(1e5)\n",
    "maze_list = np.zeros((n_maze, grid_size, grid_size, 4))\n",
    "for i in tqdm(range(n_maze)):\n",
    "    maze_list[i] = maze_gen.get_maze_np()\n",
    "np.save('maze_list.npy', maze_list)"
   ]
  },
  {
   "cell_type": "code",
   "execution_count": 18,
   "metadata": {},
   "outputs": [
    {
     "data": {
      "image/png": "[encoded data removed]",
      "text/plain": [
       "<Figure size 300x300 with 1 Axes>"
      ]
     },
     "metadata": {},
     "output_type": "display_data"
    }
   ],
   "source": [
    "maze_list = np.load('maze_list.npy')\n",
    "maze_gen.render(maze_list[342])"
   ]
  },
  {
   "cell_type": "code",
   "execution_count": 5,
   "metadata": {},
   "outputs": [
    {
     "data": {
      "text/plain": [
       "Array([[[1, 0]],\n",
       "\n",
       "       [[1, 0]],\n",
       "\n",
       "       [[1, 0]],\n",
       "\n",
       "       [[1, 0]],\n",
       "\n",
       "       [[1, 0]],\n",
       "\n",
       "       [[1, 0]],\n",
       "\n",
       "       [[1, 0]],\n",
       "\n",
       "       [[1, 0]],\n",
       "\n",
       "       [[1, 0]],\n",
       "\n",
       "       [[1, 0]],\n",
       "\n",
       "       [[1, 0]],\n",
       "\n",
       "       [[1, 0]],\n",
       "\n",
       "       [[1, 0]],\n",
       "\n",
       "       [[1, 0]],\n",
       "\n",
       "       [[1, 0]],\n",
       "\n",
       "       [[1, 0]]], dtype=int8)"
      ]
     },
     "execution_count": 5,
     "metadata": {},
     "output_type": "execute_result"
    }
   ],
   "source": [
    "import jax\n",
    "import jax.numpy as jnp\n",
    "# wall_maze = maze_list[342]\n",
    "n_agents = 16\n",
    "grid_size = 4\n",
    "wall_maze = jnp.zeros((n_agents, grid_size, grid_size, 4))\n",
    "s = jnp.zeros((n_agents, 2), dtype=jnp.int8)\n",
    "a = jnp.zeros((n_agents, 1), dtype=jnp.int8)\n",
    "actions = jnp.array([[1,0],[-1,0],[0,1],[0,-1]], dtype=jnp.int8)\n",
    "actions[a.reshape(-1)].shape\n",
    "actions[a]"
   ]
  }
 ],
 "metadata": {
  "kernelspec": {
   "display_name": "jax",
   "language": "python",
   "name": "python3"
  },
  "language_info": {
   "codemirror_mode": {
    "name": "ipython",
    "version": 3
   },
   "file_extension": ".py",
   "mimetype": "text/x-python",
   "name": "python",
   "nbconvert_exporter": "python",
   "pygments_lexer": "ipython3",
   "version": "3.10.0"
  }
 },
 "nbformat": 4,
 "nbformat_minor": 2
}
